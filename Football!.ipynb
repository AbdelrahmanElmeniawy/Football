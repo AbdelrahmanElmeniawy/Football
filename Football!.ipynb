{
 "cells": [
  {
   "cell_type": "code",
   "execution_count": 68,
   "id": "a31350f8",
   "metadata": {},
   "outputs": [],
   "source": [
    "import pandas as pd\n",
    "import matplotlib.pyplot as plt\n",
    "import numpy as np\n",
    "\n",
    "data = pd.read_csv('results.csv').dropna()"
   ]
  },
  {
   "cell_type": "code",
   "execution_count": 79,
   "id": "80b3fdfc",
   "metadata": {},
   "outputs": [
    {
     "name": "stdout",
     "output_type": "stream",
     "text": [
      "Number of tuples: 11121.0\n"
     ]
    }
   ],
   "source": [
    "tuples = data[['home_team','away_team']].drop_duplicates()\n",
    "print(\"Number of tuples:\", tuples.size / 2)"
   ]
  },
  {
   "cell_type": "code",
   "execution_count": 80,
   "id": "67fa1f93",
   "metadata": {},
   "outputs": [
    {
     "name": "stdout",
     "output_type": "stream",
     "text": [
      "Number of tournament: 118\n"
     ]
    }
   ],
   "source": [
    "tournament = pd.value_counts(data['tournament'])\n",
    "print(\"Number of tournament:\", tournament.size)"
   ]
  },
  {
   "cell_type": "code",
   "execution_count": 81,
   "id": "be3252e5",
   "metadata": {},
   "outputs": [
    {
     "name": "stdout",
     "output_type": "stream",
     "text": [
      "Number of matches in 2018: 908\n"
     ]
    }
   ],
   "source": [
    "data['date'] = pd.to_datetime(data.date)\n",
    "matchesin2018 = data.loc[data.date.dt.year == 2018, 'date']\n",
    "print(\"Number of matches in 2018:\", matchesin2018.size)"
   ]
  },
  {
   "cell_type": "code",
   "execution_count": 83,
   "id": "5f0f3ff3",
   "metadata": {},
   "outputs": [
    {
     "name": "stdout",
     "output_type": "stream",
     "text": [
      "Home teams won 20662 matches\n",
      "Home teams lost 12031 matches\n",
      "Home teams draw 9790 matches\n"
     ]
    },
    {
     "data": {
      "image/png": "[encoded data removed]",
      "text/plain": [
       "<Figure size 432x288 with 1 Axes>"
      ]
     },
     "metadata": {},
     "output_type": "display_data"
    }
   ],
   "source": [
    "win = data.loc[data['home_score'] > data['away_score'], 'home_team']\n",
    "lose = data.loc[data['home_score'] < data['away_score'], 'away_team']\n",
    "draw = data.loc[data['home_score'] == data['away_score'], 'away_team']\n",
    "print(\"Home teams won\", win.size, \"matches\")\n",
    "print(\"Home teams lost\", lose.size, \"matches\")\n",
    "print(\"Home teams draw\", draw.size, \"matches\")\n",
    "x = np.array([win.size, lose.size, draw.size])\n",
    "labels = [\"Win\", \"Lose\", \"Draw\"]\n",
    "plt.pie(x, labels = labels)\n",
    "plt.show()"
   ]
  },
  {
   "cell_type": "code",
   "execution_count": 78,
   "id": "1666214c",
   "metadata": {},
   "outputs": [
    {
     "data": {
      "text/plain": [
       "<AxesSubplot:ylabel='neutral'>"
      ]
     },
     "execution_count": 78,
     "metadata": {},
     "output_type": "execute_result"
    },
    {
     "data": {
      "image/png": "[encoded data removed]",
      "text/plain": [
       "<Figure size 432x288 with 1 Axes>"
      ]
     },
     "metadata": {},
     "output_type": "display_data"
    }
   ],
   "source": [
    "pd.value_counts(data['neutral']).plot(kind = 'pie')"
   ]
  },
  {
   "cell_type": "code",
   "execution_count": 84,
   "id": "0a86115e",
   "metadata": {},
   "outputs": [
    {
     "name": "stdout",
     "output_type": "stream",
     "text": [
      "there are 313 unique teams in the dataset\n"
     ]
    }
   ],
   "source": [
    "uniqueteams = data['home_team'].drop_duplicates()\n",
    "uniqueteams = uniqueteams.append(data['away_team'].drop_duplicates()).drop_duplicates()\n",
    "print(\"there are\", uniqueteams.size, \"unique teams in the dataset\")"
   ]
  },
  {
   "cell_type": "code",
   "execution_count": null,
   "id": "71565bc9",
   "metadata": {},
   "outputs": [],
   "source": []
  }
 ],
 "metadata": {
  "kernelspec": {
   "display_name": "Python 3",
   "language": "python",
   "name": "python3"
  },
  "language_info": {
   "codemirror_mode": {
    "name": "ipython",
    "version": 3
   },
   "file_extension": ".py",
   "mimetype": "text/x-python",
   "name": "python",
   "nbconvert_exporter": "python",
   "pygments_lexer": "ipython3",
   "version": "3.8.8"
  }
 },
 "nbformat": 4,
 "nbformat_minor": 5
}
